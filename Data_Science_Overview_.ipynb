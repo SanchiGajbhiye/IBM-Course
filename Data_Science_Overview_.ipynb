{
  "nbformat": 4,
  "nbformat_minor": 0,
  "metadata": {
    "colab": {
      "provenance": []
    },
    "kernelspec": {
      "name": "python3",
      "display_name": "Python 3"
    },
    "language_info": {
      "name": "python"
    }
  },
  "cells": [
    {
      "cell_type": "markdown",
      "source": [
        "#Overview of Data Science Notebook\n"
      ],
      "metadata": {
        "id": "LdXu6ORijyum"
      }
    },
    {
      "cell_type": "markdown",
      "source": [
        "## Introduction\n",
        "This notebook goes over key ideas and resources related to Data Science, such as arithmetic expressions, languages, and libraries.\n",
        "\n"
      ],
      "metadata": {
        "id": "G8tUeNC7kFmA"
      }
    },
    {
      "cell_type": "markdown",
      "source": [
        "## Languages used in Data Science\n",
        "- Python\n",
        "- R\n",
        "- SQL\n",
        "- Julia\n",
        "- Scala\n"
      ],
      "metadata": {
        "id": "lhj4yAfNkQGr"
      }
    },
    {
      "cell_type": "markdown",
      "source": [
        "## Data Science Libraries\n",
        "- NumPy\n",
        "- Pandas\n",
        "- Matplotlib\n",
        "- SciPy\n",
        "- Scikit-learn\n",
        "- TensorFlow\n",
        "- PyTorch\n"
      ],
      "metadata": {
        "id": "yNB4dEVykSXb"
      }
    },
    {
      "cell_type": "markdown",
      "source": [
        "## Data Science Tools\n",
        "| Tool           | Description                                    |\n",
        "|----------------|------------------------------------------------|\n",
        "| Jupyter Notebook - An open-source web tool that lets you create and distribute documents with narrative text, equations, live code, and visuals.\n",
        "| RStudio        - An environment for R's integrated development.\n",
        "| Apache Spark   - An open-source unified analytics engine for large-scale data processing.\n",
        "| Tableau        - An effective tool for data visualization in the business intelligence sector.\n"
      ],
      "metadata": {
        "id": "tmRm25p9kfIk"
      }
    },
    {
      "cell_type": "markdown",
      "source": [
        "## Arithmetic Expression Examples\n",
        "Below are examples of  arithmetic operations like multiplication and addition.\n"
      ],
      "metadata": {
        "id": "YKF6b6yNki0u"
      }
    },
    {
      "cell_type": "code",
      "source": [
        "# Multiplication and Addition\n",
        "x = 4\n",
        "y = 7\n",
        "multiplication = x * y\n",
        "addition = x + y\n",
        "multiplication, addition"
      ],
      "metadata": {
        "colab": {
          "base_uri": "https://localhost:8080/"
        },
        "id": "LWKK7XeQlHpv",
        "outputId": "1bd881f8-0fba-4efb-e88e-180b376a92f8"
      },
      "execution_count": 1,
      "outputs": [
        {
          "output_type": "execute_result",
          "data": {
            "text/plain": [
              "(28, 11)"
            ]
          },
          "metadata": {},
          "execution_count": 1
        }
      ]
    },
    {
      "cell_type": "code",
      "source": [
        "# Convert minutes to hours\n",
        "minutes = 180\n",
        "hours = minutes / 60\n",
        "hours\n"
      ],
      "metadata": {
        "colab": {
          "base_uri": "https://localhost:8080/"
        },
        "id": "NAlje4T7lSdc",
        "outputId": "b35bbdac-3d54-46ce-e51f-85a868afec0e"
      },
      "execution_count": 2,
      "outputs": [
        {
          "output_type": "execute_result",
          "data": {
            "text/plain": [
              "3.0"
            ]
          },
          "metadata": {},
          "execution_count": 2
        }
      ]
    },
    {
      "cell_type": "markdown",
      "source": [
        "## Objectives\n",
        "-Recognize the fundamentals of data science\n",
        "\n",
        "-Discover popular libraries and tools for data science.\n",
        "\n",
        "-Use Python to practice arithmetic operations.\n"
      ],
      "metadata": {
        "id": "z20EYLr7lbKC"
      }
    },
    {
      "cell_type": "markdown",
      "source": [
        "## Author\n",
        "- Sanchi Gajbhiye\n"
      ],
      "metadata": {
        "id": "4Pq07qXNlgeA"
      }
    }
  ]
}